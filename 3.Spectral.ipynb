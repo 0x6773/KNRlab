{
 "cells": [
  {
   "cell_type": "code",
   "execution_count": 1,
   "metadata": {
    "collapsed": true
   },
   "outputs": [],
   "source": [
    "import numpy as np\n",
    "from scipy import linalg as LA"
   ]
  },
  {
   "cell_type": "code",
   "execution_count": 2,
   "metadata": {
    "collapsed": true
   },
   "outputs": [],
   "source": [
    "def findspectral(a):\n",
    "    zx = []\n",
    "    dim = len(a)\n",
    "    e_vals, z = LA.eig(a)\n",
    "    zi = np.linalg.inv(z)\n",
    "    anx = np.zeros((dim, dim))\n",
    "    for i in range(0, dim):\n",
    "        ik = np.zeros((dim, dim))\n",
    "        ik[i,i] = 1\n",
    "        ans = np.dot(np.dot(z, ik), zi)\n",
    "        zx.append(ans)\n",
    "        print('Eigen Value : ' + str(e_vals[i]))\n",
    "        print(ans)\n",
    "        anx += e_vals[i].real * zx[i]\n",
    "    print('Answer')\n",
    "    print(anx)"
   ]
  },
  {
   "cell_type": "code",
   "execution_count": 3,
   "metadata": {},
   "outputs": [
    {
     "name": "stdout",
     "output_type": "stream",
     "text": [
      "Eigen Value : (4+0j)\n",
      "[[ 0.6  0.6]\n",
      " [ 0.4  0.4]]\n",
      "Eigen Value : (-1+0j)\n",
      "[[ 0.4 -0.6]\n",
      " [-0.4  0.6]]\n",
      "Answer\n",
      "[[ 2.  3.]\n",
      " [ 2.  1.]]\n"
     ]
    }
   ],
   "source": [
    "A = np.matrix([2,3,2,1])\n",
    "A = A.reshape((2, 2))\n",
    "findspectral(A)"
   ]
  },
  {
   "cell_type": "code",
   "execution_count": 4,
   "metadata": {},
   "outputs": [
    {
     "name": "stdout",
     "output_type": "stream",
     "text": [
      "Eigen Value : (-2+0j)\n",
      "[[ 0.6 -2.4  1.2]\n",
      " [-0.2  0.8 -0.4]\n",
      " [-0.2  0.8 -0.4]]\n",
      "Eigen Value : (3+0j)\n",
      "[[ 0.4   0.9   0.3 ]\n",
      " [ 0.2   0.45  0.15]\n",
      " [ 0.2   0.45  0.15]]\n",
      "Eigen Value : (-1+0j)\n",
      "[[  8.32667268e-17   1.50000000e+00  -1.50000000e+00]\n",
      " [ -1.38777878e-17  -2.50000000e-01   2.50000000e-01]\n",
      " [ -6.93889390e-17  -1.25000000e+00   1.25000000e+00]]\n",
      "Answer\n",
      "[[  3.60822483e-16   6.00000000e+00  -4.44089210e-16]\n",
      " [  1.00000000e+00  -2.22044605e-16   1.00000000e+00]\n",
      " [  1.00000000e+00   1.00000000e+00   0.00000000e+00]]\n"
     ]
    }
   ],
   "source": [
    "A = np.matrix([0,6,0,1,0,1,1,1,0])\n",
    "A = A.reshape((3, 3))\n",
    "findspectral(A)"
   ]
  },
  {
   "cell_type": "code",
   "execution_count": 5,
   "metadata": {},
   "outputs": [
    {
     "name": "stdout",
     "output_type": "stream",
     "text": [
      "Eigen Value : (-4+0j)\n",
      "[[ 0.32142857 -0.28571429 -0.10714286]\n",
      " [-0.64285714  0.57142857  0.21428571]\n",
      " [-0.32142857  0.28571429  0.10714286]]\n",
      "Eigen Value : (3+0j)\n",
      "[[ 0.76190476  0.28571429  0.19047619]\n",
      " [ 1.14285714  0.42857143  0.28571429]\n",
      " [-0.76190476 -0.28571429 -0.19047619]]\n",
      "Eigen Value : (9.61673583839e-17+0j)\n",
      "[[-0.08333333  0.         -0.08333333]\n",
      " [-0.5         0.         -0.5       ]\n",
      " [ 1.08333333  0.          1.08333333]]\n",
      "Answer\n",
      "[[  1.00000000e+00   2.00000000e+00   1.00000000e+00]\n",
      " [  6.00000000e+00  -1.00000000e+00   8.40094741e-16]\n",
      " [ -1.00000000e+00  -2.00000000e+00  -1.00000000e+00]]\n"
     ]
    }
   ],
   "source": [
    "A = np.matrix([1,2,1,6,-1,0,-1,-2,-1])\n",
    "A = A.reshape((3, 3))\n",
    "findspectral(A)"
   ]
  },
  {
   "cell_type": "code",
   "execution_count": null,
   "metadata": {
    "collapsed": true
   },
   "outputs": [],
   "source": []
  }
 ],
 "metadata": {
  "anaconda-cloud": {},
  "kernelspec": {
   "display_name": "Python [default]",
   "language": "python",
   "name": "python3"
  },
  "language_info": {
   "codemirror_mode": {
    "name": "ipython",
    "version": 3
   },
   "file_extension": ".py",
   "mimetype": "text/x-python",
   "name": "python",
   "nbconvert_exporter": "python",
   "pygments_lexer": "ipython3",
   "version": "3.5.3"
  }
 },
 "nbformat": 4,
 "nbformat_minor": 2
}
